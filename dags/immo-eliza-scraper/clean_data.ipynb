{
 "cells": [
  {
   "cell_type": "code",
   "execution_count": 1,
   "metadata": {},
   "outputs": [],
   "source": [
    "import pandas as pd\n",
    "import numpy as np"
   ]
  },
  {
   "cell_type": "code",
   "execution_count": 2,
   "metadata": {},
   "outputs": [],
   "source": [
    "def print_shape(func):\n",
    "    def wrapper(*args, **kwargs):\n",
    "        print(f\"Before: {args[0].shape}\")\n",
    "        func(*args, **kwargs)\n",
    "        print(f\"After: {args[0].shape}\")\n",
    "    return wrapper\n",
    "\n",
    "@print_shape\n",
    "def drop_duplicates(df):\n",
    "    return df.drop_duplicates(inplace=True)"
   ]
  },
  {
   "cell_type": "code",
   "execution_count": 3,
   "metadata": {},
   "outputs": [],
   "source": [
    "df = pd.read_csv(\"immo-eliza-goats/Data/cleaned/clean_set.csv\")"
   ]
  },
  {
   "cell_type": "code",
   "execution_count": 4,
   "metadata": {},
   "outputs": [
    {
     "name": "stdout",
     "output_type": "stream",
     "text": [
      "Before: (85528, 29)\n",
      "After: (80404, 29)\n"
     ]
    }
   ],
   "source": [
    "# drop unnecessary columns\n",
    "df.drop(columns=[\"Unnamed: 0\", \"price_square\"], inplace=True)\n",
    "\n",
    "# remove duplicates\n",
    "drop_duplicates(df)  # helper function with decorator around df.drop_duplicates(inplace=True)\n",
    "\n",
    "# remove properties with no known property_type\n",
    "df = df[df[\"property_type\"].notna()]\n",
    "\n",
    "# remove properties with no known price or a too low price\n",
    "df = df[(df[\"price\"] > 75000) & (df[\"price\"].notna())]\n",
    "\n",
    "# rename a couple of columns\n",
    "df.rename(columns={\n",
    "    \"floodZoneType\": \"fl_floodzone\",\n",
    "    \"primaryEnergyConsumptionPerSqm\": \"primary_energy_consumption_sqm\",\n",
    "    \"total_area_m2\": \"total_area_sqm\",\n",
    "    \"furnished\": \"fl_furnished\",\n",
    "    \"open_fire\": \"fl_open_fire\",\n",
    "    \"terrace\": \"fl_terrace\",\n",
    "    \"garden\": \"fl_garden\",\n",
    "    \"surface_land\": \"surface_land_sqm\",\n",
    "    \"swimming_pool\": \"fl_swimming_pool\",\n",
    "    \"Double_Glazing\": \"fl_double_glazing\",\n",
    "    \"Number_of_frontages\": \"nbr_frontages\",\n",
    "    \"bedroom_count\": \"nbr_bedrooms\"\n",
    "}, inplace=True)\n",
    "\n",
    "# set all columns to lower case\n",
    "df.columns = df.columns.str.lower()\n",
    "\n",
    "# remap some columns to their respective categories\n",
    "epc_mapping = {\"A++\": 9, \"A+\": 8, \"A\": 7, \"B\": 6, \"C\": 5, \"D\": 4, \"E\": 3, \"F\": 2, \"G\": 1}\n",
    "state_mapping = {\"JUST_RENOVATED\": 6, \"AS_NEW\": 5, \"GOOD\": 4,\n",
    "                 \"TO_BE_DONE_UP\": 3, \"TO_RENOVATE\": 2, \"TO_RESTORE\": 1}\n",
    "property_type ={\"APARTMENT\": 1, \"HOUSE\": 0}\n",
    "\n",
    "df.replace({\n",
    "    \"epc\": {v: k for k, v in epc_mapping.items()},\n",
    "    \"state_building\": {v: k for k, v in state_mapping.items()},\n",
    "    \"property_type\": {v: k for k, v in property_type.items()}\n",
    "}, inplace=True)\n",
    "\n",
    "# replace nan with \"MISSING\" for object columns\n",
    "for col in df.select_dtypes(include=\"object\").columns:\n",
    "    df[col].fillna(\"MISSING\", inplace=True)\n",
    "\n",
    "# replace 0 with nan for cadastral_income\n",
    "df[\"cadastral_income\"] = np.where(df[\"cadastral_income\"] == 0, np.nan, df[\"cadastral_income\"])\n",
    "\n",
    "# replace impossible construction year values with nan\n",
    "df[\"construction_year\"] = np.where((df[\"construction_year\"] < 1750) |\n",
    "                                   (df[\"construction_year\"] > 2024), np.nan, df[\"construction_year\"])\n",
    "\n",
    "# add a random property id and resample\n",
    "df[\"id\"] = np.random.randint(0, len(df), size=len(df)) * 1000\n",
    "df = df.sample(frac=1)\n",
    "df.reset_index(drop=True, inplace=True)\n",
    "\n",
    "# reorder columns\n",
    "cols = [\n",
    "    \"id\",\n",
    "    \"price\",\n",
    "    \"property_type\",\n",
    "    \"subproperty_type\",\n",
    "    \"region\", \"province\", \"locality\", \"zip_code\", \"latitude\", \"longitude\",\n",
    "    \"construction_year\",\n",
    "    \"total_area_sqm\", \"surface_land_sqm\",\n",
    "    \"nbr_frontages\",\n",
    "    \"nbr_bedrooms\",\n",
    "    \"equipped_kitchen\",\n",
    "    \"fl_furnished\",\n",
    "    \"fl_open_fire\", \n",
    "    \"fl_terrace\", \"terrace_sqm\",\n",
    "    \"fl_garden\", \"garden_sqm\",\n",
    "    \"fl_swimming_pool\",\n",
    "    \"fl_floodzone\",\n",
    "    \"state_building\",\n",
    "    \"primary_energy_consumption_sqm\", \"epc\", \"heating_type\",\n",
    "    \"fl_double_glazing\",\n",
    "    \"cadastral_income\"\n",
    "]\n",
    "df = df[cols]"
   ]
  }
 ],
 "metadata": {
  "kernelspec": {
   "display_name": "base",
   "language": "python",
   "name": "python3"
  },
  "language_info": {
   "codemirror_mode": {
    "name": "ipython",
    "version": 3
   },
   "file_extension": ".py",
   "mimetype": "text/x-python",
   "name": "python",
   "nbconvert_exporter": "python",
   "pygments_lexer": "ipython3",
   "version": "3.10.9"
  }
 },
 "nbformat": 4,
 "nbformat_minor": 2
}
